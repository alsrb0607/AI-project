{
 "cells": [
  {
   "cell_type": "code",
   "execution_count": 16,
   "id": "6918e2bf",
   "metadata": {},
   "outputs": [],
   "source": [
    "import numpy as np\n",
    "import cv2\n",
    "import os\n",
    "from matplotlib import pyplot as plt\n",
    "import shutil"
   ]
  },
  {
   "cell_type": "code",
   "execution_count": 30,
   "id": "3c1e01f9",
   "metadata": {},
   "outputs": [],
   "source": [
    "def seg_skin(path):\n",
    "    test_img = []\n",
    "    for images in sorted(os.listdir(path), key = len):\n",
    "        test_image = os.path.join(path, images)\n",
    "        test_img.append(test_image)\n",
    "    # 이미지 로드 및 그레이 이미지로 변경\n",
    "    image = cv2.imread(test_img[0])\n",
    "    gray = cv2.cvtColor(image, cv2.COLOR_BGR2GRAY)\n",
    "    # 이미지 노이즈 제거\n",
    "    kernel1 = np.ones((5,5),np.float32)/25\n",
    "    dst1 = cv2.filter2D(gray,-1,kernel1)\n",
    "\n",
    "    #  threshold 이미지 필터 생성\n",
    "    ret2, th2 = cv2.threshold(dst1, 45, 255,  cv2.THRESH_TRUNC+cv2.THRESH_OTSU) # cv2.THRESH_BINARY+cv2.THRESH_OTSU\n",
    "\n",
    "    # 불규칙한 모양과 노이즈 제거\n",
    "    kernel3 = np.ones((5,5), np.uint8) \n",
    "    img_erosion = cv2.erode(th2, kernel3, iterations=5)\n",
    "\n",
    "    # 관심 영역에 대한 확장\n",
    "    img_dilation = cv2.dilate(img_erosion, kernel3, iterations=5)\n",
    "\n",
    "    contours, hierarchy = cv2.findContours(img_dilation, cv2.RETR_EXTERNAL, cv2.CHAIN_APPROX_NONE)\n",
    "\n",
    "    if len(contours) != 0:\n",
    "        c = max(contours, key = cv2.contourArea)\n",
    "        x,y,w,h = cv2.boundingRect(c)\n",
    "        new_img = gray[y:y+h,x:x+w]\n",
    "\n",
    "    median_filter = cv2.medianBlur(new_img, 5)\n",
    "\n",
    "    kernel=cv2.getStructuringElement(cv2.MORPH_RECT,(9,9))\n",
    "    erosion = cv2.morphologyEx(median_filter, cv2.MORPH_ERODE, kernel)\n",
    "    dilation = cv2.morphologyEx(erosion, cv2.MORPH_DILATE, kernel)\n",
    "\n",
    "    ret3,th3 = cv2.threshold(dilation,110,255,cv2.THRESH_BINARY)\n",
    "    th3 = cv2.bitwise_not(th3)\n",
    "\n",
    "    #  뇌종양일 경우 이미지위에 튜머 표시\n",
    "    contours,hierarchy = cv2.findContours(th3, cv2.RETR_EXTERNAL, cv2.CHAIN_APPROX_NONE)\n",
    "\n",
    "    if len(contours) != 0:\n",
    "        c = max(contours, key = cv2.contourArea)\n",
    "        x,y,w,h = cv2.boundingRect(c)\n",
    "        tumor = image[y:y+h,x:x+w]\n",
    "        \n",
    "        new_img = cv2.rectangle(image, (x, y), (x + w, y + h), (0,255,150), 1)\n",
    "        # cv2.putText(new_img, 'Tumor Detected', (x, y-10), cv2.FONT_HERSHEY_SIMPLEX, 0.9, (255,255,255), 2)\n",
    "\n",
    "    file_name = sorted(os.listdir(path), key = len)[0].split(\".\")[0]\n",
    "    save_path = './sample_' + \"/detected\" \n",
    "    if os.path.isdir(save_path):\n",
    "        shutil.rmtree(save_path) ## 있으면 지우기\n",
    "    os.makedirs(save_path)     \n",
    "    save_file = save_path + \"/\" + file_name + \".jpg\"\n",
    "    cv2.imwrite(save_file , th3)\n",
    "    img = plt.imshow( th3) # 체크용, 나중에 삭제\n",
    "    return (th3)"
   ]
  },
  {
   "cell_type": "code",
   "execution_count": 31,
   "id": "8e398906",
   "metadata": {},
   "outputs": [],
   "source": [
    "a =\"./images/sample\""
   ]
  },
  {
   "cell_type": "code",
   "execution_count": 32,
   "id": "e5e959d2",
   "metadata": {},
   "outputs": [
    {
     "data": {
      "text/plain": [
       "array([[0, 0, 0, ..., 0, 0, 0],\n",
       "       [0, 0, 0, ..., 0, 0, 0],\n",
       "       [0, 0, 0, ..., 0, 0, 0],\n",
       "       ...,\n",
       "       [0, 0, 0, ..., 0, 0, 0],\n",
       "       [0, 0, 0, ..., 0, 0, 0],\n",
       "       [0, 0, 0, ..., 0, 0, 0]], dtype=uint8)"
      ]
     },
     "execution_count": 32,
     "metadata": {},
     "output_type": "execute_result"
    },
    {
     "data": {
      "image/png": "[encoded data removed]",
      "text/plain": [
       "<Figure size 432x288 with 1 Axes>"
      ]
     },
     "metadata": {
      "needs_background": "light"
     },
     "output_type": "display_data"
    }
   ],
   "source": [
    "seg_skin(a)"
   ]
  },
  {
   "cell_type": "code",
   "execution_count": null,
   "id": "7bded7db",
   "metadata": {},
   "outputs": [],
   "source": []
  }
 ],
 "metadata": {
  "kernelspec": {
   "display_name": "Python 3",
   "language": "python",
   "name": "python3"
  },
  "language_info": {
   "codemirror_mode": {
    "name": "ipython",
    "version": 3
   },
   "file_extension": ".py",
   "mimetype": "text/x-python",
   "name": "python",
   "nbconvert_exporter": "python",
   "pygments_lexer": "ipython3",
   "version": "3.8.11"
  },
  "toc": {
   "base_numbering": 1,
   "nav_menu": {},
   "number_sections": true,
   "sideBar": true,
   "skip_h1_title": false,
   "title_cell": "Table of Contents",
   "title_sidebar": "Contents",
   "toc_cell": false,
   "toc_position": {},
   "toc_section_display": true,
   "toc_window_display": false
  }
 },
 "nbformat": 4,
 "nbformat_minor": 5
}
